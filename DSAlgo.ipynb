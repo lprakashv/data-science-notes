{
 "cells": [
  {
   "cell_type": "markdown",
   "id": "def20423-b86d-4bea-b294-ee430f192ec7",
   "metadata": {},
   "source": [
    "# Coding problems in Python"
   ]
  },
  {
   "cell_type": "code",
   "execution_count": 43,
   "id": "8dd4afb5-77a5-4cea-a97d-9e1840e0efbf",
   "metadata": {},
   "outputs": [],
   "source": [
    "import json\n",
    "\n",
    "class Tree:\n",
    "    def __init__(self, data, left=None, right=None):\n",
    "        self.data = data\n",
    "        self.left = left\n",
    "        self.right = right\n",
    "    \n",
    "    def __repr__(self):\n",
    "        return str(self.__dict__)"
   ]
  },
  {
   "cell_type": "code",
   "execution_count": 4,
   "id": "886538fc-9919-4030-850a-94a321f23a64",
   "metadata": {},
   "outputs": [],
   "source": [
    "# [-10,9,20,null,null,15,7]\n",
    "test_tree = Tree(\n",
    "    -10,\n",
    "    Tree(9),\n",
    "    Tree(20, Tree(15), Tree(7))\n",
    ")"
   ]
  },
  {
   "cell_type": "markdown",
   "id": "2b7e6cf5-8fac-4deb-92b0-d15776f5fb52",
   "metadata": {},
   "source": [
    "## Max path sum of binary tree"
   ]
  },
  {
   "cell_type": "code",
   "execution_count": 21,
   "id": "28517a89-948d-4407-9eda-427b78c14085",
   "metadata": {},
   "outputs": [
    {
     "data": {
      "text/plain": [
       "42"
      ]
     },
     "execution_count": 21,
     "metadata": {},
     "output_type": "execute_result"
    }
   ],
   "source": [
    "max_sum = 0\n",
    "\n",
    "def max_gain(tree):\n",
    "    if not tree:\n",
    "        return 0\n",
    "    global max_sum\n",
    "    max_left_gain = max(0, max_gain(tree.left))\n",
    "    max_right_gain = max(0, max_gain(tree.right))\n",
    "    new_max = tree.data + max_left_gain + max_right_gain\n",
    "    max_sum = max(max_sum, new_max)\n",
    "    return tree.data + max(max_left_gain, max_right_gain)\n",
    "\n",
    "def max_path_sum(tree):\n",
    "    global max_sum\n",
    "    max_sum = 0\n",
    "    max_gain(tree)\n",
    "    return max_sum\n",
    "\n",
    "max_path_sum(test_tree)"
   ]
  },
  {
   "cell_type": "markdown",
   "id": "92479b97-0ef6-4ad9-b7e9-5e91a9f8837c",
   "metadata": {},
   "source": [
    "## Min sum binary tree path"
   ]
  },
  {
   "cell_type": "code",
   "execution_count": null,
   "id": "310d23c2-ab0f-4640-8f51-e00a711070c1",
   "metadata": {},
   "outputs": [],
   "source": []
  },
  {
   "cell_type": "markdown",
   "id": "4c922b20-2a09-4cd0-9f43-41dd90bd9993",
   "metadata": {},
   "source": [
    "## Construct a binary tree if pre-order and in-order given"
   ]
  },
  {
   "cell_type": "code",
   "execution_count": 46,
   "id": "fb7e6011-9f43-422e-ae50-f41acad2151b",
   "metadata": {},
   "outputs": [
    {
     "data": {
      "text/plain": [
       "{'data': 3, 'left': {'data': 9, 'left': None, 'right': None}, 'right': {'data': 20, 'left': {'data': 15, 'left': None, 'right': None}, 'right': {'data': 7, 'left': None, 'right': None}}}"
      ]
     },
     "execution_count": 46,
     "metadata": {},
     "output_type": "execute_result"
    }
   ],
   "source": [
    "def util(preorder, inorder, preorder_index, inorder_left, inorder_right):\n",
    "    if preorder_index >= len(preorder) or inorder_left > inorder_right or inorder_right >= len(inorder):\n",
    "        return None\n",
    "    \n",
    "    for i in range(inorder_left, inorder_right+1):\n",
    "        if inorder[i] == preorder[preorder_index]:\n",
    "            break\n",
    "    \n",
    "    return Tree(\n",
    "        preorder[preorder_index],\n",
    "        util(preorder, inorder, preorder_index + 1, inorder_left, i-1),\n",
    "        util(preorder, inorder, preorder_index + (i - inorder_left + 1), i+1, inorder_right)\n",
    "    )\n",
    "\n",
    "def build_pre_in(preorder, inorder):\n",
    "    return util(preorder, inorder, 0, 0, len(inorder)-1)\n",
    "\n",
    "# preorder = [3,9,20,15,7], inorder = [9,3,15,20,7]\n",
    "build_pre_in([3,9,20,15,7], [9,3,15,20,7])"
   ]
  },
  {
   "cell_type": "code",
   "execution_count": null,
   "id": "8e09b284-f397-49e4-8ff1-dbb9c63d413a",
   "metadata": {},
   "outputs": [],
   "source": []
  }
 ],
 "metadata": {
  "kernelspec": {
   "display_name": "Python 3",
   "language": "python",
   "name": "python3"
  },
  "language_info": {
   "codemirror_mode": {
    "name": "ipython",
    "version": 3
   },
   "file_extension": ".py",
   "mimetype": "text/x-python",
   "name": "python",
   "nbconvert_exporter": "python",
   "pygments_lexer": "ipython3",
   "version": "3.8.5"
  }
 },
 "nbformat": 4,
 "nbformat_minor": 5
}
