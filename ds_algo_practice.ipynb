{
 "cells": [
  {
   "cell_type": "markdown",
   "id": "def20423-b86d-4bea-b294-ee430f192ec7",
   "metadata": {},
   "source": [
    "# Coding problems in Python"
   ]
  },
  {
   "cell_type": "code",
   "execution_count": 43,
   "id": "8dd4afb5-77a5-4cea-a97d-9e1840e0efbf",
   "metadata": {},
   "outputs": [],
   "source": [
    "import json\n",
    "\n",
    "class Tree:\n",
    "    def __init__(self, data, left=None, right=None):\n",
    "        self.data = data\n",
    "        self.left = left\n",
    "        self.right = right\n",
    "    \n",
    "    def __repr__(self):\n",
    "        return str(self.__dict__)"
   ]
  },
  {
   "cell_type": "code",
   "execution_count": 4,
   "id": "886538fc-9919-4030-850a-94a321f23a64",
   "metadata": {},
   "outputs": [],
   "source": [
    "# [-10,9,20,null,null,15,7]\n",
    "test_tree = Tree(\n",
    "    -10,\n",
    "    Tree(9),\n",
    "    Tree(20, Tree(15), Tree(7))\n",
    ")"
   ]
  },
  {
   "cell_type": "markdown",
   "id": "2b7e6cf5-8fac-4deb-92b0-d15776f5fb52",
   "metadata": {},
   "source": [
    "## Max path sum of binary tree"
   ]
  },
  {
   "cell_type": "code",
   "execution_count": 21,
   "id": "28517a89-948d-4407-9eda-427b78c14085",
   "metadata": {},
   "outputs": [
    {
     "data": {
      "text/plain": [
       "42"
      ]
     },
     "execution_count": 21,
     "metadata": {},
     "output_type": "execute_result"
    }
   ],
   "source": [
    "max_sum = 0\n",
    "\n",
    "def max_gain(tree):\n",
    "    if not tree:\n",
    "        return 0\n",
    "    global max_sum\n",
    "    max_left_gain = max(0, max_gain(tree.left))\n",
    "    max_right_gain = max(0, max_gain(tree.right))\n",
    "    new_max = tree.data + max_left_gain + max_right_gain\n",
    "    max_sum = max(max_sum, new_max)\n",
    "    return tree.data + max(max_left_gain, max_right_gain)\n",
    "\n",
    "def max_path_sum(tree):\n",
    "    global max_sum\n",
    "    max_sum = 0\n",
    "    max_gain(tree)\n",
    "    return max_sum\n",
    "\n",
    "max_path_sum(test_tree)"
   ]
  },
  {
   "cell_type": "markdown",
   "id": "92479b97-0ef6-4ad9-b7e9-5e91a9f8837c",
   "metadata": {},
   "source": [
    "## Min sum binary tree path"
   ]
  },
  {
   "cell_type": "code",
   "execution_count": null,
   "id": "310d23c2-ab0f-4640-8f51-e00a711070c1",
   "metadata": {},
   "outputs": [],
   "source": []
  },
  {
   "cell_type": "markdown",
   "id": "4c922b20-2a09-4cd0-9f43-41dd90bd9993",
   "metadata": {},
   "source": [
    "## Construct a binary tree if pre-order and in-order given"
   ]
  },
  {
   "cell_type": "code",
   "execution_count": 46,
   "id": "fb7e6011-9f43-422e-ae50-f41acad2151b",
   "metadata": {},
   "outputs": [
    {
     "data": {
      "text/plain": [
       "{'data': 3, 'left': {'data': 9, 'left': None, 'right': None}, 'right': {'data': 20, 'left': {'data': 15, 'left': None, 'right': None}, 'right': {'data': 7, 'left': None, 'right': None}}}"
      ]
     },
     "execution_count": 46,
     "metadata": {},
     "output_type": "execute_result"
    }
   ],
   "source": [
    "def util(preorder, inorder, preorder_index, inorder_left, inorder_right):\n",
    "    if preorder_index >= len(preorder) or inorder_left > inorder_right or inorder_right >= len(inorder):\n",
    "        return None\n",
    "    \n",
    "    for i in range(inorder_left, inorder_right+1):\n",
    "        if inorder[i] == preorder[preorder_index]:\n",
    "            break\n",
    "    \n",
    "    return Tree(\n",
    "        preorder[preorder_index],\n",
    "        util(preorder, inorder, preorder_index + 1, inorder_left, i-1),\n",
    "        util(preorder, inorder, preorder_index + (i - inorder_left + 1), i+1, inorder_right)\n",
    "    )\n",
    "\n",
    "def build_pre_in(preorder, inorder):\n",
    "    return util(preorder, inorder, 0, 0, len(inorder)-1)\n",
    "\n",
    "# preorder = [3,9,20,15,7], inorder = [9,3,15,20,7]\n",
    "build_pre_in([3,9,20,15,7], [9,3,15,20,7])"
   ]
  },
  {
   "cell_type": "code",
   "execution_count": 196,
   "id": "8e09b284-f397-49e4-8ff1-dbb9c63d413a",
   "metadata": {},
   "outputs": [
    {
     "data": {
      "text/html": [
       "<div>\n",
       "<style scoped>\n",
       "    .dataframe tbody tr th:only-of-type {\n",
       "        vertical-align: middle;\n",
       "    }\n",
       "\n",
       "    .dataframe tbody tr th {\n",
       "        vertical-align: top;\n",
       "    }\n",
       "\n",
       "    .dataframe thead th {\n",
       "        text-align: right;\n",
       "    }\n",
       "</style>\n",
       "<table border=\"1\" class=\"dataframe\">\n",
       "  <thead>\n",
       "    <tr style=\"text-align: right;\">\n",
       "      <th></th>\n",
       "      <th>Campaign Name</th>\n",
       "      <th>VIN</th>\n",
       "      <th>Success</th>\n",
       "    </tr>\n",
       "  </thead>\n",
       "  <tbody>\n",
       "    <tr>\n",
       "      <th>0</th>\n",
       "      <td>B</td>\n",
       "      <td>2</td>\n",
       "      <td>1</td>\n",
       "    </tr>\n",
       "    <tr>\n",
       "      <th>1</th>\n",
       "      <td>B</td>\n",
       "      <td>3</td>\n",
       "      <td>1</td>\n",
       "    </tr>\n",
       "    <tr>\n",
       "      <th>2</th>\n",
       "      <td>B</td>\n",
       "      <td>6</td>\n",
       "      <td>1</td>\n",
       "    </tr>\n",
       "    <tr>\n",
       "      <th>3</th>\n",
       "      <td>B</td>\n",
       "      <td>7</td>\n",
       "      <td>1</td>\n",
       "    </tr>\n",
       "    <tr>\n",
       "      <th>4</th>\n",
       "      <td>B</td>\n",
       "      <td>10</td>\n",
       "      <td>1</td>\n",
       "    </tr>\n",
       "    <tr>\n",
       "      <th>5</th>\n",
       "      <td>C</td>\n",
       "      <td>2</td>\n",
       "      <td>1</td>\n",
       "    </tr>\n",
       "    <tr>\n",
       "      <th>6</th>\n",
       "      <td>C</td>\n",
       "      <td>3</td>\n",
       "      <td>1</td>\n",
       "    </tr>\n",
       "    <tr>\n",
       "      <th>7</th>\n",
       "      <td>C</td>\n",
       "      <td>5</td>\n",
       "      <td>1</td>\n",
       "    </tr>\n",
       "    <tr>\n",
       "      <th>8</th>\n",
       "      <td>C</td>\n",
       "      <td>7</td>\n",
       "      <td>1</td>\n",
       "    </tr>\n",
       "    <tr>\n",
       "      <th>9</th>\n",
       "      <td>C</td>\n",
       "      <td>9</td>\n",
       "      <td>1</td>\n",
       "    </tr>\n",
       "    <tr>\n",
       "      <th>10</th>\n",
       "      <td>C</td>\n",
       "      <td>10</td>\n",
       "      <td>1</td>\n",
       "    </tr>\n",
       "    <tr>\n",
       "      <th>11</th>\n",
       "      <td>D</td>\n",
       "      <td>1</td>\n",
       "      <td>1</td>\n",
       "    </tr>\n",
       "    <tr>\n",
       "      <th>12</th>\n",
       "      <td>D</td>\n",
       "      <td>6</td>\n",
       "      <td>1</td>\n",
       "    </tr>\n",
       "    <tr>\n",
       "      <th>13</th>\n",
       "      <td>E</td>\n",
       "      <td>2</td>\n",
       "      <td>1</td>\n",
       "    </tr>\n",
       "    <tr>\n",
       "      <th>14</th>\n",
       "      <td>E</td>\n",
       "      <td>3</td>\n",
       "      <td>1</td>\n",
       "    </tr>\n",
       "    <tr>\n",
       "      <th>15</th>\n",
       "      <td>E</td>\n",
       "      <td>4</td>\n",
       "      <td>1</td>\n",
       "    </tr>\n",
       "    <tr>\n",
       "      <th>16</th>\n",
       "      <td>E</td>\n",
       "      <td>6</td>\n",
       "      <td>1</td>\n",
       "    </tr>\n",
       "    <tr>\n",
       "      <th>17</th>\n",
       "      <td>E</td>\n",
       "      <td>7</td>\n",
       "      <td>1</td>\n",
       "    </tr>\n",
       "    <tr>\n",
       "      <th>18</th>\n",
       "      <td>E</td>\n",
       "      <td>8</td>\n",
       "      <td>1</td>\n",
       "    </tr>\n",
       "  </tbody>\n",
       "</table>\n",
       "</div>"
      ],
      "text/plain": [
       "   Campaign Name  VIN  Success\n",
       "0              B    2        1\n",
       "1              B    3        1\n",
       "2              B    6        1\n",
       "3              B    7        1\n",
       "4              B   10        1\n",
       "5              C    2        1\n",
       "6              C    3        1\n",
       "7              C    5        1\n",
       "8              C    7        1\n",
       "9              C    9        1\n",
       "10             C   10        1\n",
       "11             D    1        1\n",
       "12             D    6        1\n",
       "13             E    2        1\n",
       "14             E    3        1\n",
       "15             E    4        1\n",
       "16             E    6        1\n",
       "17             E    7        1\n",
       "18             E    8        1"
      ]
     },
     "execution_count": 196,
     "metadata": {},
     "output_type": "execute_result"
    }
   ],
   "source": [
    "import pandas as pd\n",
    "import numpy as np\n",
    "\n",
    "m = ['A', 'B', 'C', 'D', 'E']\n",
    "\n",
    "rand_camapaign_vectorizer = np.vectorize(lambda x: m[x])\n",
    "random_campaigns = rand_camapaign_vectorizer(np.random.randint(1, 5, 50))\n",
    "\n",
    "df = pd.DataFrame({\"VIN\": np.random.randint(1, 11, 50),\n",
    "                   \"Campaign Name\": random_campaigns,\n",
    "                   \"Success\": np.random.randint(0, 2, 50)})\n",
    "\n",
    "# df\n",
    "df[df['Success'] == 1].groupby(['Campaign Name', 'VIN'], as_index=False).nunique()"
   ]
  },
  {
   "cell_type": "code",
   "execution_count": 1,
   "id": "c2f97400-fbf1-4bde-9072-e6a203794dd2",
   "metadata": {},
   "outputs": [],
   "source": [
    "from datetime import datetime"
   ]
  },
  {
   "cell_type": "code",
   "execution_count": 12,
   "id": "be408fcd-f415-413f-960e-67450fec9dc1",
   "metadata": {},
   "outputs": [],
   "source": [
    "d = datetime.fromisoformat('2022-03-07')"
   ]
  },
  {
   "cell_type": "code",
   "execution_count": 13,
   "id": "310bdd3d-ab1b-4ceb-a4ba-b483d1982b23",
   "metadata": {},
   "outputs": [
    {
     "data": {
      "text/plain": [
       "datetime.datetime(2022, 3, 7, 0, 0)"
      ]
     },
     "execution_count": 13,
     "metadata": {},
     "output_type": "execute_result"
    }
   ],
   "source": [
    "d"
   ]
  },
  {
   "cell_type": "code",
   "execution_count": 14,
   "id": "2df36dc5-c106-4663-8a18-d32c111c11b9",
   "metadata": {},
   "outputs": [],
   "source": [
    "from datetime import timedelta\n",
    "\n",
    "delta = timedelta(days=270)"
   ]
  },
  {
   "cell_type": "code",
   "execution_count": 15,
   "id": "dc91cf82-8f9d-4db3-aab6-735be58c8a14",
   "metadata": {},
   "outputs": [
    {
     "data": {
      "text/plain": [
       "datetime.datetime(2021, 6, 10, 0, 0)"
      ]
     },
     "execution_count": 15,
     "metadata": {},
     "output_type": "execute_result"
    }
   ],
   "source": [
    "d - delta"
   ]
  },
  {
   "cell_type": "code",
   "execution_count": null,
   "id": "d61e050a-a5c0-4dbf-8c06-eea00a2ec5b9",
   "metadata": {},
   "outputs": [],
   "source": []
  }
 ],
 "metadata": {
  "kernelspec": {
   "display_name": "Python 3",
   "language": "python",
   "name": "python3"
  },
  "language_info": {
   "codemirror_mode": {
    "name": "ipython",
    "version": 3
   },
   "file_extension": ".py",
   "mimetype": "text/x-python",
   "name": "python",
   "nbconvert_exporter": "python",
   "pygments_lexer": "ipython3",
   "version": "3.8.8"
  }
 },
 "nbformat": 4,
 "nbformat_minor": 5
}
