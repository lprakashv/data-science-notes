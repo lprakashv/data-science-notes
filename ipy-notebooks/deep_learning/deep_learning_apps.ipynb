{
 "cells": [
  {
   "cell_type": "markdown",
   "id": "bab1bd66-ec14-4233-83e3-35fa6227dbc2",
   "metadata": {},
   "source": [
    "# Neural Networks"
   ]
  },
  {
   "cell_type": "markdown",
   "id": "62e5fa02-be31-483c-be8e-eb27d346037c",
   "metadata": {},
   "source": [
    "## Keras\n",
    "\n",
    "A high level framework for building neural networks with only a few lines of code\n",
    "\n",
    "### Backends\n",
    "- Keras is a front-end layer.\n",
    "- It depends on a backen-end library.\n",
    "- It supports multiple back ends.\n",
    "\n",
    "Keras uses either **Tensorflow** or **Theano** behind the scenes to do all its calculations.\n",
    "\n",
    "#### Theano\n",
    "- Created at MILA (Montreal Institute for Learning Algorithms) at the University of Montreal\n",
    "- Works well with Python\n",
    "- GPU acceleration\n",
    "\n",
    "#### Tensorflow\n",
    "- Created at Google\n",
    "- GPU acceleration\n",
    "- Distributed computing\n",
    "- **When to use?**\n",
    "    - Researching new types of machine learning models\n",
    "    - Building a large-scale system to support many users\n",
    "    - If processing and memory efficiency is more important than time saved while coding"
   ]
  },
  {
   "cell_type": "markdown",
   "id": "f1b59e41-dad1-4131-bc51-2ed5b8fe1a8f",
   "metadata": {},
   "source": [
    "### Keras\n",
    "- Industry best practices are built in.\n",
    "- The default settings in Keras are designed to give you good results in most cases.\n",
    "- **When to use?**\n",
    "    - Education and experimentation\n",
    "    - Prototyping\n",
    "    - Production system that don't have highly specialized requirements"
   ]
  },
  {
   "cell_type": "markdown",
   "id": "c281a701-5c09-4530-ab00-0611843b250e",
   "metadata": {},
   "source": [
    "### Keras + Tensorflow\n",
    "- High level\n",
    "- Fast experimentation\n",
    "- Write less code"
   ]
  },
  {
   "cell_type": "markdown",
   "id": "316d4338-943e-4dda-829a-a6efc6ed3b94",
   "metadata": {},
   "source": [
    "## Code sneak-peek\n",
    "\n",
    "### Creating a Model\n",
    "\n",
    "```python\n",
    "model = keras.models.Sequential()\n",
    "model.add(keras.layers.Dense())\n",
    "## .. add mode layers ..\n",
    "model.compile(loss='mean_squared_error', optimizer='adam')\n",
    "```\n",
    "\n",
    "### Training Phase\n",
    "\n",
    "```python\n",
    "mode.lfit(training_data, expected_output)\n",
    "```\n",
    "\n",
    "### Testing Phase\n",
    "\n",
    "```python\n",
    "error_rate = model.evaluate(testing_data, expected_output)\n",
    "\n",
    "mode.save(\"training_model.h5\")\n",
    "```\n",
    "\n",
    "### Evaluation Phase\n",
    "```python\n",
    "model = keras.models.load_model('trained_model.h5')\n",
    "\n",
    "predictions = mode.predict(new_data)\n",
    "```"
   ]
  },
  {
   "cell_type": "markdown",
   "id": "68ab054c-aad1-4f87-8264-19f5b59762f7",
   "metadata": {},
   "source": [
    "## Keras Sequential Model API\n",
    "- The easiest way to build neural networks in Keras\n",
    "- Create an empty sequential model object and then add layers to it in sequence\n",
    "\n",
    "```python\n",
    "model = keras.models.Sequential()\n",
    "model.add(Dense(32, input_dim=9))\n",
    "model.add(Dense(128))\n",
    "model.add(Dense(1))\n",
    "```\n",
    "\n",
    "### Customizing Layers\n",
    "\n",
    "```python\n",
    "model.add(Dense(number_of_neurons, activation='relu'))\n",
    "```\n",
    "\n",
    "### Layer Options\n",
    "\n",
    "- Layer activation function\n",
    "- Initializer function for node weights\n",
    "- Regularization function for node weights\n",
    "\n",
    "**But the default settings are a good start!**\n",
    "\n",
    "### Other Types of Layers Supported\n",
    "\n",
    "#### Convolutional layers\n",
    "Example: `keras.layers.convolutional.Conv2D()`\n",
    "\n",
    "#### Recurrent layers\n",
    "Example: `keras.layers.recurrent.LSTM()`"
   ]
  },
  {
   "cell_type": "code",
   "execution_count": 3,
   "id": "4a3093c8-7192-42a5-9f2b-5e3605c921b7",
   "metadata": {},
   "outputs": [
    {
     "data": {
      "text/plain": [
       "15"
      ]
     },
     "execution_count": 3,
     "metadata": {},
     "output_type": "execute_result"
    }
   ],
   "source": [
    "import numpy as np\n",
    "\n",
    "a = np.array([5, 6, 3, 1])\n",
    "b = [9, 10, 7]\n",
    "\n",
    "a.sum()"
   ]
  },
  {
   "cell_type": "code",
   "execution_count": null,
   "id": "305161ee-1ed3-4fd2-aa06-af2563eabe55",
   "metadata": {},
   "outputs": [],
   "source": []
  }
 ],
 "metadata": {
  "kernelspec": {
   "display_name": "Python 3",
   "language": "python",
   "name": "python3"
  },
  "language_info": {
   "codemirror_mode": {
    "name": "ipython",
    "version": 3
   },
   "file_extension": ".py",
   "mimetype": "text/x-python",
   "name": "python",
   "nbconvert_exporter": "python",
   "pygments_lexer": "ipython3",
   "version": "3.8.8"
  }
 },
 "nbformat": 4,
 "nbformat_minor": 5
}
